{
 "cells": [
  {
   "cell_type": "code",
   "execution_count": 2,
   "metadata": {},
   "outputs": [],
   "source": [
    "import numpy as np\n",
    "import pandas as pd\n",
    "import matplotlib.pyplot as plt"
   ]
  },
  {
   "cell_type": "markdown",
   "metadata": {},
   "source": [
    "## Read in the CSV file\n",
    "\n",
    "We first provide the path to the file, next we tell pandas to skip the top 318 rows and start reading the data from row 319. We also tell Pandas to not try to infer what the column names are from the file, else it will treat the first row of the data as the column names. Finally, we pass the argument that the seperator between columns will be whitespace."
   ]
  },
  {
   "cell_type": "code",
   "execution_count": 3,
   "metadata": {},
   "outputs": [],
   "source": [
    "stn6 = pd.read_csv(\"./Station 6 210921_ctm_fil_le_der.cnv\", \n",
    "                    skiprows=318, header=None, sep=\"\\s+\")"
   ]
  },
  {
   "cell_type": "code",
   "execution_count": 5,
   "metadata": {},
   "outputs": [
    {
     "data": {
      "text/html": [
       "<div>\n",
       "<style scoped>\n",
       "    .dataframe tbody tr th:only-of-type {\n",
       "        vertical-align: middle;\n",
       "    }\n",
       "\n",
       "    .dataframe tbody tr th {\n",
       "        vertical-align: top;\n",
       "    }\n",
       "\n",
       "    .dataframe thead th {\n",
       "        text-align: right;\n",
       "    }\n",
       "</style>\n",
       "<table border=\"1\" class=\"dataframe\">\n",
       "  <thead>\n",
       "    <tr style=\"text-align: right;\">\n",
       "      <th></th>\n",
       "      <th>0</th>\n",
       "      <th>1</th>\n",
       "      <th>2</th>\n",
       "      <th>3</th>\n",
       "      <th>4</th>\n",
       "      <th>5</th>\n",
       "      <th>6</th>\n",
       "      <th>7</th>\n",
       "      <th>8</th>\n",
       "      <th>9</th>\n",
       "      <th>10</th>\n",
       "      <th>11</th>\n",
       "      <th>12</th>\n",
       "      <th>13</th>\n",
       "      <th>14</th>\n",
       "      <th>15</th>\n",
       "    </tr>\n",
       "  </thead>\n",
       "  <tbody>\n",
       "    <tr>\n",
       "      <th>0</th>\n",
       "      <td>1</td>\n",
       "      <td>1.492</td>\n",
       "      <td>14.9538</td>\n",
       "      <td>14.8992</td>\n",
       "      <td>2.903222</td>\n",
       "      <td>2.891623</td>\n",
       "      <td>2.6049</td>\n",
       "      <td>2.2406</td>\n",
       "      <td>0.0044</td>\n",
       "      <td>0.156120</td>\n",
       "      <td>1.478</td>\n",
       "      <td>22.7130</td>\n",
       "      <td>22.6446</td>\n",
       "      <td>6.2392</td>\n",
       "      <td>4.5369</td>\n",
       "      <td>-9.990000e-29</td>\n",
       "    </tr>\n",
       "    <tr>\n",
       "      <th>1</th>\n",
       "      <td>2</td>\n",
       "      <td>1.493</td>\n",
       "      <td>14.9539</td>\n",
       "      <td>14.8994</td>\n",
       "      <td>2.903051</td>\n",
       "      <td>2.891579</td>\n",
       "      <td>2.6035</td>\n",
       "      <td>2.2399</td>\n",
       "      <td>0.0044</td>\n",
       "      <td>0.156106</td>\n",
       "      <td>1.479</td>\n",
       "      <td>22.7114</td>\n",
       "      <td>22.6441</td>\n",
       "      <td>6.2351</td>\n",
       "      <td>4.5351</td>\n",
       "      <td>-9.990000e-29</td>\n",
       "    </tr>\n",
       "    <tr>\n",
       "      <th>2</th>\n",
       "      <td>3</td>\n",
       "      <td>1.494</td>\n",
       "      <td>14.9540</td>\n",
       "      <td>14.8995</td>\n",
       "      <td>2.902866</td>\n",
       "      <td>2.891530</td>\n",
       "      <td>2.6021</td>\n",
       "      <td>2.2393</td>\n",
       "      <td>0.0044</td>\n",
       "      <td>0.156090</td>\n",
       "      <td>1.480</td>\n",
       "      <td>22.7098</td>\n",
       "      <td>22.6436</td>\n",
       "      <td>6.2310</td>\n",
       "      <td>4.5335</td>\n",
       "      <td>-9.990000e-29</td>\n",
       "    </tr>\n",
       "    <tr>\n",
       "      <th>3</th>\n",
       "      <td>4</td>\n",
       "      <td>1.494</td>\n",
       "      <td>14.9541</td>\n",
       "      <td>14.8996</td>\n",
       "      <td>2.902670</td>\n",
       "      <td>2.891479</td>\n",
       "      <td>2.6006</td>\n",
       "      <td>2.2385</td>\n",
       "      <td>0.0044</td>\n",
       "      <td>0.156073</td>\n",
       "      <td>1.480</td>\n",
       "      <td>22.7080</td>\n",
       "      <td>22.6431</td>\n",
       "      <td>6.2265</td>\n",
       "      <td>4.5315</td>\n",
       "      <td>-9.990000e-29</td>\n",
       "    </tr>\n",
       "    <tr>\n",
       "      <th>4</th>\n",
       "      <td>5</td>\n",
       "      <td>1.495</td>\n",
       "      <td>14.9542</td>\n",
       "      <td>14.8997</td>\n",
       "      <td>2.902465</td>\n",
       "      <td>2.891424</td>\n",
       "      <td>2.5990</td>\n",
       "      <td>2.2378</td>\n",
       "      <td>0.0044</td>\n",
       "      <td>0.156052</td>\n",
       "      <td>1.481</td>\n",
       "      <td>22.7062</td>\n",
       "      <td>22.6426</td>\n",
       "      <td>6.2218</td>\n",
       "      <td>4.5297</td>\n",
       "      <td>-9.990000e-29</td>\n",
       "    </tr>\n",
       "    <tr>\n",
       "      <th>...</th>\n",
       "      <td>...</td>\n",
       "      <td>...</td>\n",
       "      <td>...</td>\n",
       "      <td>...</td>\n",
       "      <td>...</td>\n",
       "      <td>...</td>\n",
       "      <td>...</td>\n",
       "      <td>...</td>\n",
       "      <td>...</td>\n",
       "      <td>...</td>\n",
       "      <td>...</td>\n",
       "      <td>...</td>\n",
       "      <td>...</td>\n",
       "      <td>...</td>\n",
       "      <td>...</td>\n",
       "      <td>...</td>\n",
       "    </tr>\n",
       "    <tr>\n",
       "      <th>4125</th>\n",
       "      <td>4126</td>\n",
       "      <td>37.701</td>\n",
       "      <td>6.6064</td>\n",
       "      <td>6.6001</td>\n",
       "      <td>3.242873</td>\n",
       "      <td>3.243867</td>\n",
       "      <td>0.4862</td>\n",
       "      <td>0.5457</td>\n",
       "      <td>0.0141</td>\n",
       "      <td>0.087572</td>\n",
       "      <td>37.345</td>\n",
       "      <td>32.2200</td>\n",
       "      <td>32.2369</td>\n",
       "      <td>-0.0952</td>\n",
       "      <td>0.2163</td>\n",
       "      <td>-9.990000e-29</td>\n",
       "    </tr>\n",
       "    <tr>\n",
       "      <th>4126</th>\n",
       "      <td>4127</td>\n",
       "      <td>37.703</td>\n",
       "      <td>6.6034</td>\n",
       "      <td>6.5970</td>\n",
       "      <td>3.242861</td>\n",
       "      <td>3.243854</td>\n",
       "      <td>0.4862</td>\n",
       "      <td>0.5457</td>\n",
       "      <td>0.0143</td>\n",
       "      <td>0.087569</td>\n",
       "      <td>37.347</td>\n",
       "      <td>32.2227</td>\n",
       "      <td>32.2397</td>\n",
       "      <td>-0.0952</td>\n",
       "      <td>0.2163</td>\n",
       "      <td>-9.990000e-29</td>\n",
       "    </tr>\n",
       "    <tr>\n",
       "      <th>4127</th>\n",
       "      <td>4128</td>\n",
       "      <td>37.704</td>\n",
       "      <td>6.6031</td>\n",
       "      <td>6.5966</td>\n",
       "      <td>3.242860</td>\n",
       "      <td>3.243852</td>\n",
       "      <td>0.4861</td>\n",
       "      <td>0.5457</td>\n",
       "      <td>0.0143</td>\n",
       "      <td>0.087566</td>\n",
       "      <td>37.348</td>\n",
       "      <td>32.2230</td>\n",
       "      <td>32.2400</td>\n",
       "      <td>-0.0956</td>\n",
       "      <td>0.2163</td>\n",
       "      <td>-9.990000e-29</td>\n",
       "    </tr>\n",
       "    <tr>\n",
       "      <th>4128</th>\n",
       "      <td>4129</td>\n",
       "      <td>37.705</td>\n",
       "      <td>6.6038</td>\n",
       "      <td>6.5973</td>\n",
       "      <td>3.242862</td>\n",
       "      <td>3.243854</td>\n",
       "      <td>0.4861</td>\n",
       "      <td>0.5457</td>\n",
       "      <td>0.0143</td>\n",
       "      <td>0.087565</td>\n",
       "      <td>37.349</td>\n",
       "      <td>32.2223</td>\n",
       "      <td>32.2394</td>\n",
       "      <td>-0.0956</td>\n",
       "      <td>0.2163</td>\n",
       "      <td>-9.990000e-29</td>\n",
       "    </tr>\n",
       "    <tr>\n",
       "      <th>4129</th>\n",
       "      <td>4130</td>\n",
       "      <td>37.705</td>\n",
       "      <td>6.6040</td>\n",
       "      <td>6.5976</td>\n",
       "      <td>3.242863</td>\n",
       "      <td>3.243855</td>\n",
       "      <td>0.4861</td>\n",
       "      <td>0.5457</td>\n",
       "      <td>0.0141</td>\n",
       "      <td>0.087564</td>\n",
       "      <td>37.349</td>\n",
       "      <td>32.2222</td>\n",
       "      <td>32.2391</td>\n",
       "      <td>-0.0956</td>\n",
       "      <td>0.2163</td>\n",
       "      <td>-9.990000e-29</td>\n",
       "    </tr>\n",
       "  </tbody>\n",
       "</table>\n",
       "<p>4130 rows × 16 columns</p>\n",
       "</div>"
      ],
      "text/plain": [
       "        0       1        2        3         4         5       6       7   \\\n",
       "0        1   1.492  14.9538  14.8992  2.903222  2.891623  2.6049  2.2406   \n",
       "1        2   1.493  14.9539  14.8994  2.903051  2.891579  2.6035  2.2399   \n",
       "2        3   1.494  14.9540  14.8995  2.902866  2.891530  2.6021  2.2393   \n",
       "3        4   1.494  14.9541  14.8996  2.902670  2.891479  2.6006  2.2385   \n",
       "4        5   1.495  14.9542  14.8997  2.902465  2.891424  2.5990  2.2378   \n",
       "...    ...     ...      ...      ...       ...       ...     ...     ...   \n",
       "4125  4126  37.701   6.6064   6.6001  3.242873  3.243867  0.4862  0.5457   \n",
       "4126  4127  37.703   6.6034   6.5970  3.242861  3.243854  0.4862  0.5457   \n",
       "4127  4128  37.704   6.6031   6.5966  3.242860  3.243852  0.4861  0.5457   \n",
       "4128  4129  37.705   6.6038   6.5973  3.242862  3.243854  0.4861  0.5457   \n",
       "4129  4130  37.705   6.6040   6.5976  3.242863  3.243855  0.4861  0.5457   \n",
       "\n",
       "          8         9       10       11       12      13      14            15  \n",
       "0     0.0044  0.156120   1.478  22.7130  22.6446  6.2392  4.5369 -9.990000e-29  \n",
       "1     0.0044  0.156106   1.479  22.7114  22.6441  6.2351  4.5351 -9.990000e-29  \n",
       "2     0.0044  0.156090   1.480  22.7098  22.6436  6.2310  4.5335 -9.990000e-29  \n",
       "3     0.0044  0.156073   1.480  22.7080  22.6431  6.2265  4.5315 -9.990000e-29  \n",
       "4     0.0044  0.156052   1.481  22.7062  22.6426  6.2218  4.5297 -9.990000e-29  \n",
       "...      ...       ...     ...      ...      ...     ...     ...           ...  \n",
       "4125  0.0141  0.087572  37.345  32.2200  32.2369 -0.0952  0.2163 -9.990000e-29  \n",
       "4126  0.0143  0.087569  37.347  32.2227  32.2397 -0.0952  0.2163 -9.990000e-29  \n",
       "4127  0.0143  0.087566  37.348  32.2230  32.2400 -0.0956  0.2163 -9.990000e-29  \n",
       "4128  0.0143  0.087565  37.349  32.2223  32.2394 -0.0956  0.2163 -9.990000e-29  \n",
       "4129  0.0141  0.087564  37.349  32.2222  32.2391 -0.0956  0.2163 -9.990000e-29  \n",
       "\n",
       "[4130 rows x 16 columns]"
      ]
     },
     "execution_count": 5,
     "metadata": {},
     "output_type": "execute_result"
    }
   ],
   "source": [
    "stn6"
   ]
  },
  {
   "cell_type": "markdown",
   "metadata": {},
   "source": [
    "We can see what the file holds. Notice that "
   ]
  },
  {
   "cell_type": "code",
   "execution_count": 6,
   "metadata": {},
   "outputs": [],
   "source": [
    "column_names = {0:\"ScanCount\", 1:\"Pressure\", 2:\"Temp1\", 3:\"Temp2\", 4:\"Cond1\", 5:\"Cond2\", 6:\"Oxy_raw1\", 7:\"Oxy_raw2\", \n",
    "                8:\"Flour\", 9:\"Turb\", 10:\"Depth\", \n",
    "                11:\"PSAL1\", 12:\"PSAL2\", 13:\"Oxy1\", 14:\"Oxy2\", 15:\"Flag\"}"
   ]
  },
  {
   "cell_type": "code",
   "execution_count": 7,
   "metadata": {},
   "outputs": [],
   "source": [
    "stn6 = stn6.rename(columns=column_names)"
   ]
  },
  {
   "cell_type": "code",
   "execution_count": 10,
   "metadata": {},
   "outputs": [
    {
     "data": {
      "text/plain": [
       "array([-9.99e-29,  0.00e+00])"
      ]
     },
     "execution_count": 10,
     "metadata": {},
     "output_type": "execute_result"
    }
   ],
   "source": [
    "stn6[\"Flag\"].unique()"
   ]
  },
  {
   "cell_type": "code",
   "execution_count": 11,
   "metadata": {},
   "outputs": [],
   "source": [
    "sel_good_flag = (stn6[\"Flag\"] >= 0)"
   ]
  },
  {
   "cell_type": "code",
   "execution_count": 12,
   "metadata": {},
   "outputs": [
    {
     "data": {
      "text/plain": [
       "array([0.])"
      ]
     },
     "execution_count": 12,
     "metadata": {},
     "output_type": "execute_result"
    }
   ],
   "source": [
    "stn6.loc[sel_good_flag, \"Flag\"].unique()"
   ]
  },
  {
   "cell_type": "code",
   "execution_count": 13,
   "metadata": {},
   "outputs": [],
   "source": [
    "stn6 = stn6.loc[sel_good_flag]"
   ]
  },
  {
   "cell_type": "code",
   "execution_count": 14,
   "metadata": {},
   "outputs": [
    {
     "data": {
      "text/plain": [
       "<AxesSubplot:>"
      ]
     },
     "execution_count": 14,
     "metadata": {},
     "output_type": "execute_result"
    },
    {
     "data": {
      "image/png": "[encoded data removed]",
      "text/plain": [
       "<Figure size 432x288 with 1 Axes>"
      ]
     },
     "metadata": {
      "needs_background": "light"
     },
     "output_type": "display_data"
    }
   ],
   "source": [
    "stn6[\"Temp1\"].plot()"
   ]
  },
  {
   "cell_type": "code",
   "execution_count": 15,
   "metadata": {},
   "outputs": [
    {
     "data": {
      "image/png": "[encoded data removed]",
      "text/plain": [
       "<Figure size 432x288 with 1 Axes>"
      ]
     },
     "metadata": {
      "needs_background": "light"
     },
     "output_type": "display_data"
    }
   ],
   "source": [
    "plt.plot(stn6[\"Temp1\"], -stn6[\"Depth\"], marker=\"o\")\n",
    "\n",
    "plt.ylim(-40, 0)\n",
    "\n",
    "plt.ylabel(\"Depth (m)\")\n",
    "plt.xlabel(\"Temperature ($^\\circ$C)\")\n",
    "plt.grid()"
   ]
  },
  {
   "cell_type": "code",
   "execution_count": 16,
   "metadata": {},
   "outputs": [],
   "source": [
    "def plot_variable(var, depth, xlabel=None, ylabel=None, ylim=None, wd=190/25.4, ht=230/25.4):\n",
    "    plt.rcParams.update({'font.size': 10})\n",
    "    plt.figure(figsize=(wd, ht))\n",
    "    plt.plot(var, depth)\n",
    "    if ylim:\n",
    "        plt.ylim(ylim)\n",
    "        \n",
    "    plt.ylabel(ylabel)\n",
    "    plt.xlabel(xlabel)\n",
    "    plt.grid()"
   ]
  },
  {
   "cell_type": "code",
   "execution_count": 20,
   "metadata": {},
   "outputs": [
    {
     "data": {
      "image/png": "[encoded data removed]",
      "text/plain": [
       "<Figure size 538.583x651.969 with 1 Axes>"
      ]
     },
     "metadata": {
      "needs_background": "light"
     },
     "output_type": "display_data"
    }
   ],
   "source": [
    "plot_variable(stn6[\"Temp1\"], -stn6[\"Depth\"], xlabel=\"Temperature ($^\\circ$C)\", ylabel=\"Depth (m)\", \n",
    "              ylim=[-35, 0])"
   ]
  },
  {
   "cell_type": "code",
   "execution_count": 21,
   "metadata": {},
   "outputs": [
    {
     "data": {
      "image/png": "[encoded data removed]",
      "text/plain": [
       "<Figure size 538.583x651.969 with 1 Axes>"
      ]
     },
     "metadata": {
      "needs_background": "light"
     },
     "output_type": "display_data"
    }
   ],
   "source": [
    "plot_variable(stn6[\"PSAL1\"], -stn6[\"Depth\"], xlabel=\"Salinity (PSU)\", ylabel=\"Depth (m)\", \n",
    "              ylim=[-35, 0])"
   ]
  },
  {
   "cell_type": "code",
   "execution_count": 22,
   "metadata": {},
   "outputs": [
    {
     "data": {
      "image/png": "[encoded data removed]",
      "text/plain": [
       "<Figure size 538.583x651.969 with 1 Axes>"
      ]
     },
     "metadata": {
      "needs_background": "light"
     },
     "output_type": "display_data"
    }
   ],
   "source": [
    "plot_variable(stn6[\"Oxy1\"], -stn6[\"Depth\"], xlabel=\"Oxygen (ml/l)\", ylabel=\"Depth (m)\", \n",
    "              ylim=[-35, 0])"
   ]
  },
  {
   "cell_type": "code",
   "execution_count": 23,
   "metadata": {},
   "outputs": [
    {
     "data": {
      "image/png": "[encoded data removed]",
      "text/plain": [
       "<Figure size 538.583x651.969 with 1 Axes>"
      ]
     },
     "metadata": {
      "needs_background": "light"
     },
     "output_type": "display_data"
    }
   ],
   "source": [
    "plot_variable(stn6[\"Flour\"], -stn6[\"Depth\"], xlabel=\"Flourescence (mg/m$^3$)\", ylabel=\"Depth (m)\", \n",
    "              ylim=[-35, 0])"
   ]
  },
  {
   "cell_type": "code",
   "execution_count": 24,
   "metadata": {},
   "outputs": [],
   "source": [
    "stn6[\"TempAvg\"] = (stn6[\"Temp1\"] + stn6[\"Temp2\"])*0.5"
   ]
  },
  {
   "cell_type": "code",
   "execution_count": 73,
   "metadata": {},
   "outputs": [],
   "source": [
    "stn6[\"SalAvg\"] = (stn6[\"PSAL1\"] + stn6[\"PSAL2\"])*0.5"
   ]
  },
  {
   "cell_type": "code",
   "execution_count": 25,
   "metadata": {},
   "outputs": [
    {
     "data": {
      "image/png": "[encoded data removed]",
      "text/plain": [
       "<Figure size 538.583x651.969 with 1 Axes>"
      ]
     },
     "metadata": {
      "needs_background": "light"
     },
     "output_type": "display_data"
    }
   ],
   "source": [
    "plot_variable(stn6[\"TempAvg\"], -stn6[\"Depth\"])"
   ]
  },
  {
   "cell_type": "code",
   "execution_count": 26,
   "metadata": {},
   "outputs": [],
   "source": [
    "depth_max = stn6[\"Depth\"].max()\n",
    "depth_min = stn6[\"Depth\"].min()"
   ]
  },
  {
   "cell_type": "code",
   "execution_count": 27,
   "metadata": {},
   "outputs": [
    {
     "name": "stdout",
     "output_type": "stream",
     "text": [
      "33 1.977\n"
     ]
    }
   ],
   "source": [
    "print(round(depth_max), depth_min)"
   ]
  },
  {
   "cell_type": "code",
   "execution_count": 28,
   "metadata": {},
   "outputs": [],
   "source": [
    "depth_bins = np.arange(-round(depth_max), 0, 1)"
   ]
  },
  {
   "cell_type": "code",
   "execution_count": 29,
   "metadata": {},
   "outputs": [
    {
     "data": {
      "text/plain": [
       "array([-33, -32, -31, -30, -29, -28, -27, -26, -25, -24, -23, -22, -21,\n",
       "       -20, -19, -18, -17, -16, -15, -14, -13, -12, -11, -10,  -9,  -8,\n",
       "        -7,  -6,  -5,  -4,  -3,  -2,  -1])"
      ]
     },
     "execution_count": 29,
     "metadata": {},
     "output_type": "execute_result"
    }
   ],
   "source": [
    "depth_bins"
   ]
  },
  {
   "cell_type": "code",
   "execution_count": 74,
   "metadata": {},
   "outputs": [],
   "source": [
    "stn6_binned = stn6.groupby(pd.cut(-stn6[\"Depth\"], depth_bins) ).mean()"
   ]
  },
  {
   "cell_type": "code",
   "execution_count": 31,
   "metadata": {},
   "outputs": [
    {
     "data": {
      "image/png": "[encoded data removed]",
      "text/plain": [
       "<Figure size 538.583x651.969 with 1 Axes>"
      ]
     },
     "metadata": {
      "needs_background": "light"
     },
     "output_type": "display_data"
    }
   ],
   "source": [
    "plot_variable(stn6_binned[\"TempAvg\"], -stn6_binned[\"Depth\"], xlabel=\"Temperature ($^\\circ$C)\", \n",
    "              ylabel=\"Depth (m)\")"
   ]
  },
  {
   "cell_type": "markdown",
   "metadata": {},
   "source": [
    "## Gibbs Seawater toolbox: GSW\n",
    "\n",
    "GSW package gives you tools to convert between various oceanographic thermodynamic properties. Full documentation here: https://www.teos-10.org/pubs/gsw/html/gsw_contents.html"
   ]
  },
  {
   "cell_type": "code",
   "execution_count": 76,
   "metadata": {},
   "outputs": [],
   "source": [
    "import gsw"
   ]
  },
  {
   "cell_type": "code",
   "execution_count": 81,
   "metadata": {},
   "outputs": [
    {
     "data": {
      "text/plain": [
       "0.4083333333333333"
      ]
     },
     "execution_count": 81,
     "metadata": {},
     "output_type": "execute_result"
    }
   ],
   "source": [
    "24.5/60"
   ]
  },
  {
   "cell_type": "code",
   "execution_count": 83,
   "metadata": {},
   "outputs": [],
   "source": [
    "# approximate longitude and latitude of Byfjorden, the fjord from which the CTD data was collected last year\n",
    "lon, lat = 5.283, 60.408"
   ]
  },
  {
   "cell_type": "code",
   "execution_count": 88,
   "metadata": {},
   "outputs": [],
   "source": [
    "stn6_binned[\"SA\"] = gsw.SA_from_SP(stn6_binned[\"SalAvg\"].values, stn6_binned[\"Pressure\"].values, lon, lat)"
   ]
  },
  {
   "cell_type": "code",
   "execution_count": 90,
   "metadata": {},
   "outputs": [],
   "source": [
    "stn6_binned[\"CT\"] = gsw.CT_from_t(stn6_binned[\"SA\"], stn6_binned[\"TempAvg\"], stn6_binned[\"Pressure\"])"
   ]
  },
  {
   "cell_type": "code",
   "execution_count": 92,
   "metadata": {},
   "outputs": [],
   "source": [
    "stn6_binned[\"sigma0\"] = gsw.sigma0(stn6_binned[\"SA\"], stn6_binned[\"CT\"])"
   ]
  },
  {
   "cell_type": "code",
   "execution_count": null,
   "metadata": {},
   "outputs": [],
   "source": []
  },
  {
   "cell_type": "markdown",
   "metadata": {},
   "source": [
    "## Exercise 08: Plot with multiple axes\n",
    "\n",
    "Plot all the variables on a single plot using multiple axes. For reference, use the example here: https://matplotlib.org/3.4.3/gallery/ticks_and_spines/multiple_yaxis_with_spines.html"
   ]
  },
  {
   "cell_type": "code",
   "execution_count": 109,
   "metadata": {},
   "outputs": [],
   "source": [
    "# %load ./solutions/sol_Ex08.py"
   ]
  },
  {
   "cell_type": "markdown",
   "metadata": {},
   "source": [
    "## Exercise 09: \n",
    "\n",
    "Plot temperatures from stations 1 through 6 on the same plot for comparison. Use the station depth to colour the lines. If station depth is unknown, use arbitrarily assigned depths. Provide a colorbar for reference!"
   ]
  },
  {
   "cell_type": "markdown",
   "metadata": {},
   "source": [
    "## Exercise 10:\n",
    "\n",
    "Combine all the station data into one file and plot a T-S diagram scatter-plot with density contours. \n",
    "\n",
    "1. Use plt.scatter(S, T, c=depths)\n",
    "1.        plt.contour( \\<salinity range\\>, \\<temperature range\\>, \\<gridded density\\>, levels=[\\<some relevant levels here\\>])\n",
    "1. Provide a colorbar of depths\n",
    "1. Name the axes, name the colorbar\n",
    "1. Try using oxygen level as the color\n",
    "1. Name watermasses with plt.text()"
   ]
  },
  {
   "cell_type": "code",
   "execution_count": null,
   "metadata": {},
   "outputs": [],
   "source": []
  }
 ],
 "metadata": {
  "kernelspec": {
   "display_name": "Python 3",
   "language": "python",
   "name": "python3"
  },
  "language_info": {
   "codemirror_mode": {
    "name": "ipython",
    "version": 3
   },
   "file_extension": ".py",
   "mimetype": "text/x-python",
   "name": "python",
   "nbconvert_exporter": "python",
   "pygments_lexer": "ipython3",
   "version": "3.8.3"
  }
 },
 "nbformat": 4,
 "nbformat_minor": 4
}
