{
 "cells": [
  {
   "cell_type": "markdown",
   "id": "5f6f9bb7",
   "metadata": {},
   "source": [
    "# CO<sub>2</sub> Mole Fraction: Mauna Loa\n",
    "\n",
    "Dataset is available at:\n",
    "https://gml.noaa.gov/dv/data/index.php?parameter_name=Carbon%2BDioxide&search=mauna+loa"
   ]
  },
  {
   "cell_type": "code",
   "execution_count": 1,
   "id": "919949b3",
   "metadata": {
    "collapsed": true,
    "jupyter": {
     "outputs_hidden": true
    }
   },
   "outputs": [],
   "source": [
    "import pandas as pd\n",
    "import matplotlib.pyplot as plt\n",
    "import numpy as np"
   ]
  },
  {
   "cell_type": "markdown",
   "id": "6055a998",
   "metadata": {},
   "source": [
    "To download the data file, we'll use wget which is a program that is available on most Linux distributions."
   ]
  },
  {
   "cell_type": "code",
   "execution_count": 1,
   "id": "0278f657",
   "metadata": {
    "collapsed": true,
    "jupyter": {
     "outputs_hidden": true
    }
   },
   "outputs": [
    {
     "name": "stdout",
     "output_type": "stream",
     "text": [
      "--2021-11-09 15:13:44--  https://gml.noaa.gov/aftp/data/trace_gases/co2/flask/surface/co2_mlo_surface-flask_1_ccgg_event.txt\n",
      "Resolving gml.noaa.gov (gml.noaa.gov)... 140.172.200.41, 2610:20:8800:6101::29\n",
      "Connecting to gml.noaa.gov (gml.noaa.gov)|140.172.200.41|:443... connected.\n",
      "HTTP request sent, awaiting response... 200 OK\n",
      "Length: 1584198 (1.5M) [text/plain]\n",
      "Saving to: ‘co2_mlo_surface-flask_1_ccgg_event.txt’\n",
      "\n",
      "co2_mlo_surface-fla 100%[===================>]   1.51M  1.49MB/s    in 1.0s    \n",
      "\n",
      "2021-11-09 15:13:46 (1.49 MB/s) - ‘co2_mlo_surface-flask_1_ccgg_event.txt’ saved [1584198/1584198]\n",
      "\n"
     ]
    }
   ],
   "source": [
    "!wget https://gml.noaa.gov/aftp/data/trace_gases/co2/flask/surface/co2_mlo_surface-flask_1_ccgg_event.txt"
   ]
  },
  {
   "cell_type": "markdown",
   "id": "a9590782",
   "metadata": {},
   "source": [
    "Open the text file and navigate down to where the data begins (line 71). **Notice that the Header line (line naming each data column) begins with a # character. This will confuse pandas when we try to read in the header information. Delete the # character and the whitespace after it, then run the next cell to read in the file!**"
   ]
  },
  {
   "cell_type": "code",
   "execution_count": 7,
   "id": "c4aa9721",
   "metadata": {},
   "outputs": [],
   "source": [
    "co2flask = pd.read_csv(\"co2_mlo_surface-flask_1_ccgg_event.txt\", sep=\"\\s+\", header=70)"
   ]
  },
  {
   "cell_type": "code",
   "execution_count": 8,
   "id": "726a5e49",
   "metadata": {},
   "outputs": [
    {
     "data": {
      "text/html": [
       "<div>\n",
       "<style scoped>\n",
       "    .dataframe tbody tr th:only-of-type {\n",
       "        vertical-align: middle;\n",
       "    }\n",
       "\n",
       "    .dataframe tbody tr th {\n",
       "        vertical-align: top;\n",
       "    }\n",
       "\n",
       "    .dataframe thead th {\n",
       "        text-align: right;\n",
       "    }\n",
       "</style>\n",
       "<table border=\"1\" class=\"dataframe\">\n",
       "  <thead>\n",
       "    <tr style=\"text-align: right;\">\n",
       "      <th></th>\n",
       "      <th>sample_site_code</th>\n",
       "      <th>sample_year</th>\n",
       "      <th>sample_month</th>\n",
       "      <th>sample_day</th>\n",
       "      <th>sample_hour</th>\n",
       "      <th>sample_minute</th>\n",
       "      <th>sample_seconds</th>\n",
       "      <th>sample_id</th>\n",
       "      <th>sample_method</th>\n",
       "      <th>parameter_formula</th>\n",
       "      <th>...</th>\n",
       "      <th>analysis_day</th>\n",
       "      <th>analysis_hour</th>\n",
       "      <th>analysis_minute</th>\n",
       "      <th>analysis_seconds</th>\n",
       "      <th>sample_latitude</th>\n",
       "      <th>sample_longitude</th>\n",
       "      <th>sample_altitude</th>\n",
       "      <th>sample_elevation</th>\n",
       "      <th>sample_intake_height</th>\n",
       "      <th>event_number</th>\n",
       "    </tr>\n",
       "  </thead>\n",
       "  <tbody>\n",
       "    <tr>\n",
       "      <th>0</th>\n",
       "      <td>MLO</td>\n",
       "      <td>1969</td>\n",
       "      <td>8</td>\n",
       "      <td>20</td>\n",
       "      <td>17</td>\n",
       "      <td>55</td>\n",
       "      <td>0</td>\n",
       "      <td>33-69</td>\n",
       "      <td>N</td>\n",
       "      <td>co2</td>\n",
       "      <td>...</td>\n",
       "      <td>9</td>\n",
       "      <td>9</td>\n",
       "      <td>2</td>\n",
       "      <td>0</td>\n",
       "      <td>19.5300</td>\n",
       "      <td>-155.5800</td>\n",
       "      <td>3399.0</td>\n",
       "      <td>3397.0</td>\n",
       "      <td>2.0</td>\n",
       "      <td>78808</td>\n",
       "    </tr>\n",
       "    <tr>\n",
       "      <th>1</th>\n",
       "      <td>MLO</td>\n",
       "      <td>1969</td>\n",
       "      <td>8</td>\n",
       "      <td>20</td>\n",
       "      <td>17</td>\n",
       "      <td>55</td>\n",
       "      <td>0</td>\n",
       "      <td>34-69</td>\n",
       "      <td>N</td>\n",
       "      <td>co2</td>\n",
       "      <td>...</td>\n",
       "      <td>9</td>\n",
       "      <td>9</td>\n",
       "      <td>12</td>\n",
       "      <td>0</td>\n",
       "      <td>19.5300</td>\n",
       "      <td>-155.5800</td>\n",
       "      <td>3399.0</td>\n",
       "      <td>3397.0</td>\n",
       "      <td>2.0</td>\n",
       "      <td>78809</td>\n",
       "    </tr>\n",
       "    <tr>\n",
       "      <th>2</th>\n",
       "      <td>MLO</td>\n",
       "      <td>1969</td>\n",
       "      <td>8</td>\n",
       "      <td>20</td>\n",
       "      <td>18</td>\n",
       "      <td>30</td>\n",
       "      <td>0</td>\n",
       "      <td>31-69</td>\n",
       "      <td>N</td>\n",
       "      <td>co2</td>\n",
       "      <td>...</td>\n",
       "      <td>9</td>\n",
       "      <td>8</td>\n",
       "      <td>58</td>\n",
       "      <td>0</td>\n",
       "      <td>19.5300</td>\n",
       "      <td>-155.5800</td>\n",
       "      <td>3399.0</td>\n",
       "      <td>3397.0</td>\n",
       "      <td>2.0</td>\n",
       "      <td>78810</td>\n",
       "    </tr>\n",
       "    <tr>\n",
       "      <th>3</th>\n",
       "      <td>MLO</td>\n",
       "      <td>1969</td>\n",
       "      <td>8</td>\n",
       "      <td>20</td>\n",
       "      <td>18</td>\n",
       "      <td>30</td>\n",
       "      <td>0</td>\n",
       "      <td>32-69</td>\n",
       "      <td>N</td>\n",
       "      <td>co2</td>\n",
       "      <td>...</td>\n",
       "      <td>9</td>\n",
       "      <td>9</td>\n",
       "      <td>0</td>\n",
       "      <td>0</td>\n",
       "      <td>19.5300</td>\n",
       "      <td>-155.5800</td>\n",
       "      <td>3399.0</td>\n",
       "      <td>3397.0</td>\n",
       "      <td>2.0</td>\n",
       "      <td>78811</td>\n",
       "    </tr>\n",
       "    <tr>\n",
       "      <th>4</th>\n",
       "      <td>MLO</td>\n",
       "      <td>1969</td>\n",
       "      <td>8</td>\n",
       "      <td>27</td>\n",
       "      <td>19</td>\n",
       "      <td>15</td>\n",
       "      <td>0</td>\n",
       "      <td>35-69</td>\n",
       "      <td>N</td>\n",
       "      <td>co2</td>\n",
       "      <td>...</td>\n",
       "      <td>9</td>\n",
       "      <td>8</td>\n",
       "      <td>42</td>\n",
       "      <td>0</td>\n",
       "      <td>19.5300</td>\n",
       "      <td>-155.5800</td>\n",
       "      <td>3399.0</td>\n",
       "      <td>3397.0</td>\n",
       "      <td>2.0</td>\n",
       "      <td>78812</td>\n",
       "    </tr>\n",
       "    <tr>\n",
       "      <th>...</th>\n",
       "      <td>...</td>\n",
       "      <td>...</td>\n",
       "      <td>...</td>\n",
       "      <td>...</td>\n",
       "      <td>...</td>\n",
       "      <td>...</td>\n",
       "      <td>...</td>\n",
       "      <td>...</td>\n",
       "      <td>...</td>\n",
       "      <td>...</td>\n",
       "      <td>...</td>\n",
       "      <td>...</td>\n",
       "      <td>...</td>\n",
       "      <td>...</td>\n",
       "      <td>...</td>\n",
       "      <td>...</td>\n",
       "      <td>...</td>\n",
       "      <td>...</td>\n",
       "      <td>...</td>\n",
       "      <td>...</td>\n",
       "      <td>...</td>\n",
       "    </tr>\n",
       "    <tr>\n",
       "      <th>10124</th>\n",
       "      <td>MLO</td>\n",
       "      <td>2020</td>\n",
       "      <td>12</td>\n",
       "      <td>22</td>\n",
       "      <td>20</td>\n",
       "      <td>24</td>\n",
       "      <td>0</td>\n",
       "      <td>4805-99</td>\n",
       "      <td>P</td>\n",
       "      <td>co2</td>\n",
       "      <td>...</td>\n",
       "      <td>13</td>\n",
       "      <td>11</td>\n",
       "      <td>20</td>\n",
       "      <td>10</td>\n",
       "      <td>19.5362</td>\n",
       "      <td>-155.5763</td>\n",
       "      <td>3402.0</td>\n",
       "      <td>3397.0</td>\n",
       "      <td>5.0</td>\n",
       "      <td>484255</td>\n",
       "    </tr>\n",
       "    <tr>\n",
       "      <th>10125</th>\n",
       "      <td>MLO</td>\n",
       "      <td>2020</td>\n",
       "      <td>12</td>\n",
       "      <td>31</td>\n",
       "      <td>18</td>\n",
       "      <td>40</td>\n",
       "      <td>0</td>\n",
       "      <td>1645-99</td>\n",
       "      <td>S</td>\n",
       "      <td>co2</td>\n",
       "      <td>...</td>\n",
       "      <td>28</td>\n",
       "      <td>12</td>\n",
       "      <td>32</td>\n",
       "      <td>51</td>\n",
       "      <td>19.5362</td>\n",
       "      <td>-155.5763</td>\n",
       "      <td>3437.0</td>\n",
       "      <td>3397.0</td>\n",
       "      <td>40.0</td>\n",
       "      <td>484817</td>\n",
       "    </tr>\n",
       "    <tr>\n",
       "      <th>10126</th>\n",
       "      <td>MLO</td>\n",
       "      <td>2020</td>\n",
       "      <td>12</td>\n",
       "      <td>31</td>\n",
       "      <td>18</td>\n",
       "      <td>40</td>\n",
       "      <td>0</td>\n",
       "      <td>4170-99</td>\n",
       "      <td>S</td>\n",
       "      <td>co2</td>\n",
       "      <td>...</td>\n",
       "      <td>28</td>\n",
       "      <td>12</td>\n",
       "      <td>47</td>\n",
       "      <td>8</td>\n",
       "      <td>19.5362</td>\n",
       "      <td>-155.5763</td>\n",
       "      <td>3437.0</td>\n",
       "      <td>3397.0</td>\n",
       "      <td>40.0</td>\n",
       "      <td>484818</td>\n",
       "    </tr>\n",
       "    <tr>\n",
       "      <th>10127</th>\n",
       "      <td>MLO</td>\n",
       "      <td>2020</td>\n",
       "      <td>12</td>\n",
       "      <td>31</td>\n",
       "      <td>19</td>\n",
       "      <td>17</td>\n",
       "      <td>0</td>\n",
       "      <td>4180-99</td>\n",
       "      <td>P</td>\n",
       "      <td>co2</td>\n",
       "      <td>...</td>\n",
       "      <td>28</td>\n",
       "      <td>12</td>\n",
       "      <td>4</td>\n",
       "      <td>16</td>\n",
       "      <td>19.5362</td>\n",
       "      <td>-155.5763</td>\n",
       "      <td>3402.0</td>\n",
       "      <td>3397.0</td>\n",
       "      <td>5.0</td>\n",
       "      <td>484815</td>\n",
       "    </tr>\n",
       "    <tr>\n",
       "      <th>10128</th>\n",
       "      <td>MLO</td>\n",
       "      <td>2020</td>\n",
       "      <td>12</td>\n",
       "      <td>31</td>\n",
       "      <td>19</td>\n",
       "      <td>17</td>\n",
       "      <td>0</td>\n",
       "      <td>5333-99</td>\n",
       "      <td>P</td>\n",
       "      <td>co2</td>\n",
       "      <td>...</td>\n",
       "      <td>28</td>\n",
       "      <td>12</td>\n",
       "      <td>18</td>\n",
       "      <td>33</td>\n",
       "      <td>19.5362</td>\n",
       "      <td>-155.5763</td>\n",
       "      <td>3402.0</td>\n",
       "      <td>3397.0</td>\n",
       "      <td>5.0</td>\n",
       "      <td>484816</td>\n",
       "    </tr>\n",
       "  </tbody>\n",
       "</table>\n",
       "<p>10129 rows × 27 columns</p>\n",
       "</div>"
      ],
      "text/plain": [
       "      sample_site_code  sample_year  sample_month  sample_day  sample_hour  \\\n",
       "0                  MLO         1969             8          20           17   \n",
       "1                  MLO         1969             8          20           17   \n",
       "2                  MLO         1969             8          20           18   \n",
       "3                  MLO         1969             8          20           18   \n",
       "4                  MLO         1969             8          27           19   \n",
       "...                ...          ...           ...         ...          ...   \n",
       "10124              MLO         2020            12          22           20   \n",
       "10125              MLO         2020            12          31           18   \n",
       "10126              MLO         2020            12          31           18   \n",
       "10127              MLO         2020            12          31           19   \n",
       "10128              MLO         2020            12          31           19   \n",
       "\n",
       "       sample_minute  sample_seconds sample_id sample_method  \\\n",
       "0                 55               0     33-69             N   \n",
       "1                 55               0     34-69             N   \n",
       "2                 30               0     31-69             N   \n",
       "3                 30               0     32-69             N   \n",
       "4                 15               0     35-69             N   \n",
       "...              ...             ...       ...           ...   \n",
       "10124             24               0   4805-99             P   \n",
       "10125             40               0   1645-99             S   \n",
       "10126             40               0   4170-99             S   \n",
       "10127             17               0   4180-99             P   \n",
       "10128             17               0   5333-99             P   \n",
       "\n",
       "      parameter_formula  ... analysis_day  analysis_hour  analysis_minute  \\\n",
       "0                   co2  ...            9              9                2   \n",
       "1                   co2  ...            9              9               12   \n",
       "2                   co2  ...            9              8               58   \n",
       "3                   co2  ...            9              9                0   \n",
       "4                   co2  ...            9              8               42   \n",
       "...                 ...  ...          ...            ...              ...   \n",
       "10124               co2  ...           13             11               20   \n",
       "10125               co2  ...           28             12               32   \n",
       "10126               co2  ...           28             12               47   \n",
       "10127               co2  ...           28             12                4   \n",
       "10128               co2  ...           28             12               18   \n",
       "\n",
       "      analysis_seconds sample_latitude  sample_longitude  sample_altitude  \\\n",
       "0                    0         19.5300         -155.5800           3399.0   \n",
       "1                    0         19.5300         -155.5800           3399.0   \n",
       "2                    0         19.5300         -155.5800           3399.0   \n",
       "3                    0         19.5300         -155.5800           3399.0   \n",
       "4                    0         19.5300         -155.5800           3399.0   \n",
       "...                ...             ...               ...              ...   \n",
       "10124               10         19.5362         -155.5763           3402.0   \n",
       "10125               51         19.5362         -155.5763           3437.0   \n",
       "10126                8         19.5362         -155.5763           3437.0   \n",
       "10127               16         19.5362         -155.5763           3402.0   \n",
       "10128               33         19.5362         -155.5763           3402.0   \n",
       "\n",
       "       sample_elevation  sample_intake_height  event_number  \n",
       "0                3397.0                   2.0         78808  \n",
       "1                3397.0                   2.0         78809  \n",
       "2                3397.0                   2.0         78810  \n",
       "3                3397.0                   2.0         78811  \n",
       "4                3397.0                   2.0         78812  \n",
       "...                 ...                   ...           ...  \n",
       "10124            3397.0                   5.0        484255  \n",
       "10125            3397.0                  40.0        484817  \n",
       "10126            3397.0                  40.0        484818  \n",
       "10127            3397.0                   5.0        484815  \n",
       "10128            3397.0                   5.0        484816  \n",
       "\n",
       "[10129 rows x 27 columns]"
      ]
     },
     "execution_count": 8,
     "metadata": {},
     "output_type": "execute_result"
    }
   ],
   "source": [
    "co2flask"
   ]
  },
  {
   "cell_type": "code",
   "execution_count": 9,
   "id": "2d08b6bd",
   "metadata": {
    "collapsed": true,
    "jupyter": {
     "outputs_hidden": true
    }
   },
   "outputs": [
    {
     "data": {
      "text/plain": [
       "Index(['sample_site_code', 'sample_year', 'sample_month', 'sample_day',\n",
       "       'sample_hour', 'sample_minute', 'sample_seconds', 'sample_id',\n",
       "       'sample_method', 'parameter_formula', 'analysis_group_abbr',\n",
       "       'analysis_value', 'analysis_uncertainty', 'analysis_flag',\n",
       "       'analysis_instrument', 'analysis_year', 'analysis_month',\n",
       "       'analysis_day', 'analysis_hour', 'analysis_minute', 'analysis_seconds',\n",
       "       'sample_latitude', 'sample_longitude', 'sample_altitude',\n",
       "       'sample_elevation', 'sample_intake_height', 'event_number'],\n",
       "      dtype='object')"
      ]
     },
     "execution_count": 9,
     "metadata": {},
     "output_type": "execute_result"
    }
   ],
   "source": [
    "co2flask.columns"
   ]
  },
  {
   "cell_type": "code",
   "execution_count": 10,
   "id": "c7921fd0",
   "metadata": {
    "collapsed": true,
    "jupyter": {
     "outputs_hidden": true
    }
   },
   "outputs": [
    {
     "data": {
      "text/plain": [
       "0        323.17\n",
       "1        324.72\n",
       "2        331.02\n",
       "3       -999.99\n",
       "4       -999.99\n",
       "          ...  \n",
       "10124    414.21\n",
       "10125    415.44\n",
       "10126    415.51\n",
       "10127    415.62\n",
       "10128    415.52\n",
       "Name: analysis_value, Length: 10129, dtype: float64"
      ]
     },
     "execution_count": 10,
     "metadata": {},
     "output_type": "execute_result"
    }
   ],
   "source": [
    "co2flask.analysis_value"
   ]
  },
  {
   "cell_type": "code",
   "execution_count": 12,
   "id": "fe379291",
   "metadata": {},
   "outputs": [
    {
     "data": {
      "text/plain": [
       "<AxesSubplot:ylabel='CO$_2$ mole fraction (ppm)'>"
      ]
     },
     "execution_count": 12,
     "metadata": {},
     "output_type": "execute_result"
    },
    {
     "data": {
      "image/png": "[encoded data removed]",
      "text/plain": [
       "<Figure size 432x288 with 1 Axes>"
      ]
     },
     "metadata": {
      "needs_background": "light"
     },
     "output_type": "display_data"
    }
   ],
   "source": [
    "co2flask.analysis_value.plot(ylabel=\"CO$_2$ mole fraction (ppm)\")"
   ]
  },
  {
   "cell_type": "markdown",
   "id": "3779e014",
   "metadata": {},
   "source": [
    "The negative values we see above are invalid data points. You can use boolean arrays to select valid data. Here, invalid data points are filled with a fill value of -999.99. We use a boolean selector below to select rows that do not have this fill value."
   ]
  },
  {
   "cell_type": "code",
   "execution_count": 13,
   "id": "ee701e60",
   "metadata": {},
   "outputs": [
    {
     "data": {
      "text/plain": [
       "0         True\n",
       "1         True\n",
       "2         True\n",
       "3        False\n",
       "4        False\n",
       "         ...  \n",
       "10124     True\n",
       "10125     True\n",
       "10126     True\n",
       "10127     True\n",
       "10128     True\n",
       "Name: analysis_value, Length: 10129, dtype: bool"
      ]
     },
     "execution_count": 13,
     "metadata": {},
     "output_type": "execute_result"
    }
   ],
   "source": [
    "co2flask.analysis_value != -999.990"
   ]
  },
  {
   "cell_type": "code",
   "execution_count": 14,
   "id": "b54d1d6f",
   "metadata": {},
   "outputs": [],
   "source": [
    "selvalid = co2flask.analysis_value != -999.990"
   ]
  },
  {
   "cell_type": "code",
   "execution_count": 16,
   "id": "a327a5ae",
   "metadata": {},
   "outputs": [
    {
     "data": {
      "text/plain": [
       "0        323.17\n",
       "1        324.72\n",
       "2        331.02\n",
       "3       -999.99\n",
       "4       -999.99\n",
       "          ...  \n",
       "10124    414.21\n",
       "10125    415.44\n",
       "10126    415.51\n",
       "10127    415.62\n",
       "10128    415.52\n",
       "Name: analysis_value, Length: 10129, dtype: float64"
      ]
     },
     "execution_count": 16,
     "metadata": {},
     "output_type": "execute_result"
    }
   ],
   "source": [
    "co2flask.analysis_value"
   ]
  },
  {
   "cell_type": "code",
   "execution_count": 17,
   "id": "e330720b",
   "metadata": {},
   "outputs": [
    {
     "data": {
      "text/plain": [
       "<AxesSubplot:>"
      ]
     },
     "execution_count": 17,
     "metadata": {},
     "output_type": "execute_result"
    },
    {
     "data": {
      "image/png": "[encoded data removed]",
      "text/plain": [
       "<Figure size 432x288 with 1 Axes>"
      ]
     },
     "metadata": {
      "needs_background": "light"
     },
     "output_type": "display_data"
    }
   ],
   "source": [
    "co2flask.loc[selvalid].analysis_value.plot()"
   ]
  },
  {
   "cell_type": "code",
   "execution_count": 18,
   "id": "b6b23cef",
   "metadata": {},
   "outputs": [
    {
     "data": {
      "text/plain": [
       "0        ..L\n",
       "1        +..\n",
       "2        *..\n",
       "3        *..\n",
       "4        *..\n",
       "        ... \n",
       "10124    ...\n",
       "10125    ...\n",
       "10126    ...\n",
       "10127    ...\n",
       "10128    ...\n",
       "Name: analysis_flag, Length: 10129, dtype: object"
      ]
     },
     "execution_count": 18,
     "metadata": {},
     "output_type": "execute_result"
    }
   ],
   "source": [
    "co2flask.loc[:, \"analysis_flag\"]"
   ]
  },
  {
   "cell_type": "markdown",
   "id": "bd346886",
   "metadata": {},
   "source": [
    "Let's select data that is marked as good quality. For details on the quality flag used by the NOAA lab, see Section 7.5 in this [README file](https://gml.noaa.gov/aftp/data/trace_gases/co2/flask/surface/README_surface_flask_co2.html)"
   ]
  },
  {
   "cell_type": "code",
   "execution_count": 22,
   "id": "366454b9",
   "metadata": {},
   "outputs": [
    {
     "data": {
      "text/plain": [
       "True"
      ]
     },
     "execution_count": 22,
     "metadata": {},
     "output_type": "execute_result"
    }
   ],
   "source": [
    "False | False | False | True"
   ]
  },
  {
   "cell_type": "code",
   "execution_count": 23,
   "id": "8089adc9",
   "metadata": {},
   "outputs": [],
   "source": [
    "sel_good = (co2flask.analysis_flag == \"..H\") | (co2flask.analysis_flag == \"...\") | (co2flask.analysis_flag == \"..L\") | (co2flask.analysis_flag == \"..I\")"
   ]
  },
  {
   "cell_type": "code",
   "execution_count": 24,
   "id": "cf704839",
   "metadata": {},
   "outputs": [
    {
     "data": {
      "text/plain": [
       "0         True\n",
       "1        False\n",
       "2        False\n",
       "3        False\n",
       "4        False\n",
       "         ...  \n",
       "10124     True\n",
       "10125     True\n",
       "10126     True\n",
       "10127     True\n",
       "10128     True\n",
       "Name: analysis_flag, Length: 10129, dtype: bool"
      ]
     },
     "execution_count": 24,
     "metadata": {},
     "output_type": "execute_result"
    }
   ],
   "source": [
    "sel_good"
   ]
  },
  {
   "cell_type": "code",
   "execution_count": 25,
   "id": "272374b9",
   "metadata": {},
   "outputs": [
    {
     "data": {
      "text/plain": [
       "<AxesSubplot:>"
      ]
     },
     "execution_count": 25,
     "metadata": {},
     "output_type": "execute_result"
    },
    {
     "data": {
      "image/png": "[encoded data removed]",
      "text/plain": [
       "<Figure size 432x288 with 1 Axes>"
      ]
     },
     "metadata": {
      "needs_background": "light"
     },
     "output_type": "display_data"
    }
   ],
   "source": [
    "co2flask.loc[sel_good, \"analysis_value\"].plot()"
   ]
  },
  {
   "cell_type": "code",
   "execution_count": 34,
   "id": "31712ffd",
   "metadata": {},
   "outputs": [
    {
     "data": {
      "text/plain": [
       "0         1969-8-20T17:55:0\n",
       "1         1969-8-20T17:55:0\n",
       "2         1969-8-20T18:30:0\n",
       "3         1969-8-20T18:30:0\n",
       "4         1969-8-27T19:15:0\n",
       "                ...        \n",
       "10124    2020-12-22T20:24:0\n",
       "10125    2020-12-31T18:40:0\n",
       "10126    2020-12-31T18:40:0\n",
       "10127    2020-12-31T19:17:0\n",
       "10128    2020-12-31T19:17:0\n",
       "Length: 10129, dtype: object"
      ]
     },
     "execution_count": 34,
     "metadata": {},
     "output_type": "execute_result"
    }
   ],
   "source": [
    "co2flask.sample_year.astype(\"str\")  + \"-\" + co2flask.sample_month.astype(\"str\") +\"-\"+co2flask.sample_day.astype(str)\\\n",
    "+\"T\"+co2flask.sample_hour.astype(str)+\":\"+co2flask.sample_minute.astype(str)+\":\"+co2flask.sample_seconds.astype(str)"
   ]
  },
  {
   "cell_type": "code",
   "execution_count": 35,
   "id": "fd19315d",
   "metadata": {},
   "outputs": [],
   "source": [
    "co2flask[\"datetime\"] = pd.to_datetime(co2flask.sample_year.astype(str)+\"-\"+co2flask.sample_month.astype(str)+\"-\"+co2flask.sample_day.astype(str)+\\\n",
    "                                      \"T\"+co2flask.sample_hour.astype(str)+\":\"+co2flask.sample_minute.astype(str)+\":\"+co2flask.sample_seconds.astype(str))"
   ]
  },
  {
   "cell_type": "code",
   "execution_count": 36,
   "id": "82a4bf2e",
   "metadata": {},
   "outputs": [
    {
     "data": {
      "text/plain": [
       "0       1969-08-20 17:55:00\n",
       "1       1969-08-20 17:55:00\n",
       "2       1969-08-20 18:30:00\n",
       "3       1969-08-20 18:30:00\n",
       "4       1969-08-27 19:15:00\n",
       "                ...        \n",
       "10124   2020-12-22 20:24:00\n",
       "10125   2020-12-31 18:40:00\n",
       "10126   2020-12-31 18:40:00\n",
       "10127   2020-12-31 19:17:00\n",
       "10128   2020-12-31 19:17:00\n",
       "Name: datetime, Length: 10129, dtype: datetime64[ns]"
      ]
     },
     "execution_count": 36,
     "metadata": {},
     "output_type": "execute_result"
    }
   ],
   "source": [
    "co2flask[\"datetime\"]"
   ]
  },
  {
   "cell_type": "code",
   "execution_count": 41,
   "id": "8e77fdbc",
   "metadata": {},
   "outputs": [
    {
     "data": {
      "text/plain": [
       "0       1969-08-20 17:55:00\n",
       "1       1969-08-20 17:55:00\n",
       "2       1969-08-20 18:30:00\n",
       "3       1969-08-20 18:30:00\n",
       "4       1969-08-27 19:15:00\n",
       "                ...        \n",
       "10124   2020-12-22 20:24:00\n",
       "10125   2020-12-31 18:40:00\n",
       "10126   2020-12-31 18:40:00\n",
       "10127   2020-12-31 19:17:00\n",
       "10128   2020-12-31 19:17:00\n",
       "Name: datetime, Length: 10129, dtype: datetime64[ns]"
      ]
     },
     "execution_count": 41,
     "metadata": {},
     "output_type": "execute_result"
    }
   ],
   "source": [
    "co2flask[\"datetime\"]"
   ]
  },
  {
   "cell_type": "code",
   "execution_count": 42,
   "id": "a8d076bc",
   "metadata": {},
   "outputs": [],
   "source": [
    "co2flask = co2flask.loc[sel_good]"
   ]
  },
  {
   "cell_type": "code",
   "execution_count": 48,
   "id": "342289e2",
   "metadata": {},
   "outputs": [
    {
     "data": {
      "text/plain": [
       "[<matplotlib.lines.Line2D at 0x7f3a116abfa0>]"
      ]
     },
     "execution_count": 48,
     "metadata": {},
     "output_type": "execute_result"
    },
    {
     "data": {
      "image/png": "[encoded data removed]",
      "text/plain": [
       "<Figure size 432x288 with 1 Axes>"
      ]
     },
     "metadata": {
      "needs_background": "light"
     },
     "output_type": "display_data"
    }
   ],
   "source": [
    "plt.plot(co2flask.datetime, co2flask.analysis_value)"
   ]
  },
  {
   "cell_type": "code",
   "execution_count": 46,
   "id": "122955e4",
   "metadata": {},
   "outputs": [
    {
     "data": {
      "text/plain": [
       "0        1969\n",
       "6        1969\n",
       "10       1969\n",
       "12       1969\n",
       "13       1969\n",
       "         ... \n",
       "10124    2020\n",
       "10125    2020\n",
       "10126    2020\n",
       "10127    2020\n",
       "10128    2020\n",
       "Name: datetime, Length: 9163, dtype: int64"
      ]
     },
     "execution_count": 46,
     "metadata": {},
     "output_type": "execute_result"
    }
   ],
   "source": [
    "co2flask.datetime.dt.year"
   ]
  },
  {
   "cell_type": "code",
   "execution_count": 47,
   "id": "fbf86670",
   "metadata": {},
   "outputs": [
    {
     "data": {
      "text/plain": [
       "datetime\n",
       "1969    321.607586\n",
       "1970    325.956364\n",
       "1971    325.397727\n",
       "1974    334.065000\n",
       "1976    330.861818\n",
       "1977    333.438765\n",
       "1978    335.039146\n",
       "1979    336.848916\n",
       "1980    339.396842\n",
       "1981    339.817016\n",
       "1982    341.307952\n",
       "1983    342.397103\n",
       "1984    344.571255\n",
       "1985    345.763272\n",
       "1986    346.869659\n",
       "1987    349.105550\n",
       "1988    351.628363\n",
       "1989    352.859086\n",
       "1990    354.425830\n",
       "1991    355.830984\n",
       "1992    356.915282\n",
       "1993    357.245864\n",
       "1994    358.829676\n",
       "1995    360.938287\n",
       "1996    362.727560\n",
       "1997    364.085000\n",
       "1998    366.969153\n",
       "1999    368.668168\n",
       "2000    369.933583\n",
       "2001    371.487708\n",
       "2002    373.346327\n",
       "2003    376.208696\n",
       "2004    377.787026\n",
       "2005    380.203204\n",
       "2006    382.085317\n",
       "2007    384.012031\n",
       "2008    385.808333\n",
       "2009    387.566127\n",
       "2010    389.930521\n",
       "2011    391.847047\n",
       "2012    394.005838\n",
       "2013    396.825846\n",
       "2014    398.981313\n",
       "2015    401.033231\n",
       "2016    404.340591\n",
       "2017    406.600408\n",
       "2018    408.724467\n",
       "2019    411.661429\n",
       "2020    413.897385\n",
       "Name: analysis_value, dtype: float64"
      ]
     },
     "execution_count": 47,
     "metadata": {},
     "output_type": "execute_result"
    }
   ],
   "source": [
    "co2flask.groupby(co2flask.datetime.dt.year)[\"analysis_value\"].mean()"
   ]
  },
  {
   "cell_type": "markdown",
   "id": "f53da696",
   "metadata": {},
   "source": [
    "Time averaging over annual time-scales removes the seasonal variations"
   ]
  },
  {
   "cell_type": "code",
   "execution_count": 54,
   "id": "82c19108",
   "metadata": {},
   "outputs": [
    {
     "data": {
      "text/plain": [
       "0        1969\n",
       "6        1969\n",
       "10       1969\n",
       "12       1969\n",
       "13       1969\n",
       "         ... \n",
       "10124    2020\n",
       "10125    2020\n",
       "10126    2020\n",
       "10127    2020\n",
       "10128    2020\n",
       "Name: datetime, Length: 9163, dtype: int64"
      ]
     },
     "execution_count": 54,
     "metadata": {},
     "output_type": "execute_result"
    }
   ],
   "source": [
    "co2flask.datetime.dt.year"
   ]
  },
  {
   "cell_type": "code",
   "execution_count": 53,
   "id": "c56372ef",
   "metadata": {},
   "outputs": [
    {
     "data": {
      "text/plain": [
       "Int64Index([1969, 1970, 1971, 1974, 1976, 1977, 1978, 1979, 1980, 1981, 1982,\n",
       "            1983, 1984, 1985, 1986, 1987, 1988, 1989, 1990, 1991, 1992, 1993,\n",
       "            1994, 1995, 1996, 1997, 1998, 1999, 2000, 2001, 2002, 2003, 2004,\n",
       "            2005, 2006, 2007, 2008, 2009, 2010, 2011, 2012, 2013, 2014, 2015,\n",
       "            2016, 2017, 2018, 2019, 2020],\n",
       "           dtype='int64', name='datetime')"
      ]
     },
     "execution_count": 53,
     "metadata": {},
     "output_type": "execute_result"
    }
   ],
   "source": [
    "co2flask.groupby(co2flask.datetime.dt.year)[\"analysis_value\"].mean()"
   ]
  },
  {
   "cell_type": "code",
   "execution_count": 49,
   "id": "395647da",
   "metadata": {},
   "outputs": [
    {
     "data": {
      "text/plain": [
       "[<matplotlib.lines.Line2D at 0x7f3a114d78e0>]"
      ]
     },
     "execution_count": 49,
     "metadata": {},
     "output_type": "execute_result"
    },
    {
     "data": {
      "image/png": "[encoded data removed]",
      "text/plain": [
       "<Figure size 432x288 with 1 Axes>"
      ]
     },
     "metadata": {
      "needs_background": "light"
     },
     "output_type": "display_data"
    }
   ],
   "source": [
    "years = co2flask.datetime.dt.year.unique()\n",
    "plt.plot(years, co2flask.groupby(co2flask.datetime.dt.year)[\"analysis_value\"].mean())"
   ]
  },
  {
   "cell_type": "code",
   "execution_count": 56,
   "id": "36fee8b3",
   "metadata": {},
   "outputs": [
    {
     "data": {
      "text/plain": [
       "0        323.17\n",
       "6        322.87\n",
       "10       322.90\n",
       "12       320.79\n",
       "13       320.44\n",
       "          ...  \n",
       "10124    414.21\n",
       "10125    415.44\n",
       "10126    415.51\n",
       "10127    415.62\n",
       "10128    415.52\n",
       "Name: analysis_value, Length: 9163, dtype: float64"
      ]
     },
     "execution_count": 56,
     "metadata": {},
     "output_type": "execute_result"
    }
   ],
   "source": [
    "co2flask.analysis_value"
   ]
  },
  {
   "cell_type": "markdown",
   "id": "e971a8b9",
   "metadata": {},
   "source": [
    "## Linear regression\n",
    "\n",
    "Let's use the ordinary least squares technique to fit a straight line to the data. Before we do that, we need to convert our time column into a single unit (either seconds, or minutes, or hours, or days etc.), here I've chosen to convert into \"Days since the first observation\". "
   ]
  },
  {
   "cell_type": "code",
   "execution_count": 63,
   "id": "47363412",
   "metadata": {},
   "outputs": [
    {
     "data": {
      "text/plain": [
       "\u001b[0;31mInit signature:\u001b[0m \u001b[0mnp\u001b[0m\u001b[0;34m.\u001b[0m\u001b[0mtimedelta64\u001b[0m\u001b[0;34m(\u001b[0m\u001b[0mself\u001b[0m\u001b[0;34m,\u001b[0m \u001b[0;34m/\u001b[0m\u001b[0;34m,\u001b[0m \u001b[0;34m*\u001b[0m\u001b[0margs\u001b[0m\u001b[0;34m,\u001b[0m \u001b[0;34m**\u001b[0m\u001b[0mkwargs\u001b[0m\u001b[0;34m)\u001b[0m\u001b[0;34m\u001b[0m\u001b[0;34m\u001b[0m\u001b[0m\n",
       "\u001b[0;31mDocstring:\u001b[0m     \n",
       "A timedelta stored as a 64-bit integer.\n",
       "\n",
       "See :ref:`arrays.datetime` for more information.\n",
       "\n",
       ":Character code: ``'m'``\n",
       "\u001b[0;31mFile:\u001b[0m           ~/.local/lib/python3.8/site-packages/numpy/__init__.py\n",
       "\u001b[0;31mType:\u001b[0m           type\n",
       "\u001b[0;31mSubclasses:\u001b[0m     \n"
      ]
     },
     "metadata": {},
     "output_type": "display_data"
    }
   ],
   "source": [
    "np.timedelta64?"
   ]
  },
  {
   "cell_type": "code",
   "execution_count": 65,
   "id": "acc6814d",
   "metadata": {},
   "outputs": [
    {
     "data": {
      "text/plain": [
       "0            0.000000\n",
       "6            7.079861\n",
       "10          13.086806\n",
       "12          22.996528\n",
       "13          22.996528\n",
       "             ...     \n",
       "10124    18752.103472\n",
       "10125    18761.031250\n",
       "10126    18761.031250\n",
       "10127    18761.056944\n",
       "10128    18761.056944\n",
       "Name: datetime, Length: 9163, dtype: float64"
      ]
     },
     "execution_count": 65,
     "metadata": {},
     "output_type": "execute_result"
    }
   ],
   "source": [
    "(co2flask['datetime'] - co2flask['datetime'][0]) / np.timedelta64(1,'D')"
   ]
  },
  {
   "cell_type": "code",
   "execution_count": 61,
   "id": "59de1da0",
   "metadata": {},
   "outputs": [
    {
     "name": "stderr",
     "output_type": "stream",
     "text": [
      "/tmp/ipykernel_2517/961071716.py:1: SettingWithCopyWarning: \n",
      "A value is trying to be set on a copy of a slice from a DataFrame.\n",
      "Try using .loc[row_indexer,col_indexer] = value instead\n",
      "\n",
      "See the caveats in the documentation: https://pandas.pydata.org/pandas-docs/stable/user_guide/indexing.html#returning-a-view-versus-a-copy\n",
      "  co2flask['date_delta'] = (co2flask['datetime'] - co2flask['datetime'].min())  / np.timedelta64(1,'D')\n"
     ]
    }
   ],
   "source": [
    "co2flask['date_delta'] = (co2flask['datetime'] - co2flask['datetime'].min())  / np.timedelta64(1,'D')"
   ]
  },
  {
   "cell_type": "code",
   "execution_count": 62,
   "id": "5054656a",
   "metadata": {},
   "outputs": [
    {
     "data": {
      "text/plain": [
       "0            0.000000\n",
       "6            7.079861\n",
       "10          13.086806\n",
       "12          22.996528\n",
       "13          22.996528\n",
       "             ...     \n",
       "10124    18752.103472\n",
       "10125    18761.031250\n",
       "10126    18761.031250\n",
       "10127    18761.056944\n",
       "10128    18761.056944\n",
       "Name: date_delta, Length: 9163, dtype: float64"
      ]
     },
     "execution_count": 62,
     "metadata": {},
     "output_type": "execute_result"
    }
   ],
   "source": [
    "co2flask.date_delta"
   ]
  },
  {
   "cell_type": "markdown",
   "id": "7419ad02",
   "metadata": {},
   "source": [
    "<br>\n",
    "\n",
    "### Next we perform the [simple linear regression](https://en.wikipedia.org/wiki/Simple_linear_regression) using ordinary least squares technique to fit a linear curve to the observed data:\n",
    "\n",
    "Let $t_i, c_i$ be the time and CO2 mole fraction at every i'th measurement, where i ranges from 1 to N (with N being the total number of measurements).\n",
    "\n",
    "Then, we can estimate the value of $c_i$ with an estimator $y_i$ such that the sqaures of the residuals $(c_i - y_i)^2$ is minimized:\n",
    "\n",
    "$$ y_i = a x_i + b $$\n",
    "\n",
    "Where $a$ is the slope of the fitted line given by the following formula:\n",
    "\n",
    "$$ a = \\frac{\\Sigma (t_i - \\bar{t}) (c_i - \\bar{c} ) }{\\Sigma (t_i - \\bar{t})^2} $$\n",
    "\n",
    "$b = \\bar{c} - a \\bar{t}$ is the intercept of this line on the Y axis (note that the over-bar denotes averaging).\n",
    "\n",
    "\n",
    "### Exercise 09: Linear regression\n",
    "\n",
    "1. Try solving these equations by writing your own code to get the linear curve for our data.\n",
    "1. Compute the linear regression curve using functions in scipy or numpy."
   ]
  },
  {
   "cell_type": "code",
   "execution_count": 74,
   "id": "09c1b86f",
   "metadata": {},
   "outputs": [],
   "source": [
    "t = co2flask[\"date_delta\"]"
   ]
  },
  {
   "cell_type": "code",
   "execution_count": 76,
   "id": "97ea6117",
   "metadata": {},
   "outputs": [],
   "source": [
    "c = co2flask[\"analysis_value\"]"
   ]
  },
  {
   "cell_type": "code",
   "execution_count": 79,
   "id": "2600526e",
   "metadata": {},
   "outputs": [],
   "source": [
    "tmean = t.mean()"
   ]
  },
  {
   "cell_type": "code",
   "execution_count": 80,
   "id": "f285f209",
   "metadata": {},
   "outputs": [
    {
     "data": {
      "text/plain": [
       "10576.154031678327"
      ]
     },
     "execution_count": 80,
     "metadata": {},
     "output_type": "execute_result"
    }
   ],
   "source": [
    "tmean"
   ]
  },
  {
   "cell_type": "code",
   "execution_count": 81,
   "id": "cd2a6ac2",
   "metadata": {},
   "outputs": [],
   "source": [
    "cmean  = c.mean()"
   ]
  },
  {
   "cell_type": "code",
   "execution_count": 82,
   "id": "2cc5af98",
   "metadata": {},
   "outputs": [
    {
     "data": {
      "text/plain": [
       "369.04598930481285"
      ]
     },
     "execution_count": 82,
     "metadata": {},
     "output_type": "execute_result"
    }
   ],
   "source": [
    "cmean"
   ]
  },
  {
   "cell_type": "code",
   "execution_count": 91,
   "id": "a86bc3cf",
   "metadata": {},
   "outputs": [],
   "source": [
    "anum = ((t - tmean) * (c - cmean)).sum()"
   ]
  },
  {
   "cell_type": "code",
   "execution_count": 92,
   "id": "a211fcc3",
   "metadata": {},
   "outputs": [],
   "source": [
    "adenom = ((t - tmean)**2).sum()"
   ]
  },
  {
   "cell_type": "code",
   "execution_count": 93,
   "id": "cf0c12cb",
   "metadata": {},
   "outputs": [],
   "source": [
    "a = anum / adenom"
   ]
  },
  {
   "cell_type": "code",
   "execution_count": 94,
   "id": "92f9ad90",
   "metadata": {},
   "outputs": [
    {
     "data": {
      "text/plain": [
       "0.00499479128446204"
      ]
     },
     "execution_count": 94,
     "metadata": {},
     "output_type": "execute_result"
    }
   ],
   "source": [
    "a"
   ]
  },
  {
   "cell_type": "code",
   "execution_count": 95,
   "id": "dc8e8117",
   "metadata": {},
   "outputs": [],
   "source": [
    "b = cmean - a * tmean"
   ]
  },
  {
   "cell_type": "code",
   "execution_count": 96,
   "id": "7f17ce2e",
   "metadata": {},
   "outputs": [
    {
     "data": {
      "text/plain": [
       "316.2203073242579"
      ]
     },
     "execution_count": 96,
     "metadata": {},
     "output_type": "execute_result"
    }
   ],
   "source": [
    "b"
   ]
  },
  {
   "cell_type": "code",
   "execution_count": 101,
   "id": "f69eed5a",
   "metadata": {},
   "outputs": [
    {
     "data": {
      "text/plain": [
       "0       1969-08-20 17:55:00\n",
       "6       1969-08-27 19:50:00\n",
       "10      1969-09-02 20:00:00\n",
       "12      1969-09-12 17:50:00\n",
       "13      1969-09-12 17:50:00\n",
       "                ...        \n",
       "10124   2020-12-22 20:24:00\n",
       "10125   2020-12-31 18:40:00\n",
       "10126   2020-12-31 18:40:00\n",
       "10127   2020-12-31 19:17:00\n",
       "10128   2020-12-31 19:17:00\n",
       "Name: datetime, Length: 9163, dtype: datetime64[ns]"
      ]
     },
     "execution_count": 101,
     "metadata": {},
     "output_type": "execute_result"
    }
   ],
   "source": [
    "co2flask.datetime"
   ]
  },
  {
   "cell_type": "code",
   "execution_count": 102,
   "id": "7cc1e182",
   "metadata": {},
   "outputs": [
    {
     "data": {
      "text/plain": [
       "<matplotlib.legend.Legend at 0x7f3a11078f10>"
      ]
     },
     "execution_count": 102,
     "metadata": {},
     "output_type": "execute_result"
    },
    {
     "data": {
      "image/png": "[encoded data removed]",
      "text/plain": [
       "<Figure size 432x288 with 1 Axes>"
      ]
     },
     "metadata": {
      "needs_background": "light"
     },
     "output_type": "display_data"
    }
   ],
   "source": [
    "plt.plot(t, c, label=\"obs\", color=\"gray\")\n",
    "\n",
    "plt.plot(t, a*t+b, label=\"fitted\", color=\"r\")\n",
    "\n",
    "plt.xlabel(\"Time (days since 20-08-1969)\")\n",
    "plt.ylabel(\"CO2 mole fraction\")\n",
    "\n",
    "plt.legend()"
   ]
  },
  {
   "cell_type": "code",
   "execution_count": 95,
   "id": "db0e1ca3",
   "metadata": {
    "collapsed": true,
    "jupyter": {
     "outputs_hidden": true
    }
   },
   "outputs": [],
   "source": [
    "# %load ./solutions/sol_linear_regression.py"
   ]
  },
  {
   "cell_type": "code",
   "execution_count": 106,
   "id": "67f1c9d9",
   "metadata": {},
   "outputs": [
    {
     "data": {
      "text/plain": [
       "0.00499479128446204"
      ]
     },
     "execution_count": 106,
     "metadata": {},
     "output_type": "execute_result"
    }
   ],
   "source": [
    "a"
   ]
  },
  {
   "cell_type": "code",
   "execution_count": 112,
   "id": "6196d154",
   "metadata": {},
   "outputs": [],
   "source": [
    "param = np.polyfit(t, c, 1)"
   ]
  },
  {
   "cell_type": "code",
   "execution_count": 113,
   "id": "a66dda84",
   "metadata": {},
   "outputs": [
    {
     "data": {
      "text/plain": [
       "array([4.99479128e-03, 3.16220307e+02])"
      ]
     },
     "execution_count": 113,
     "metadata": {},
     "output_type": "execute_result"
    }
   ],
   "source": [
    "param"
   ]
  },
  {
   "cell_type": "code",
   "execution_count": 110,
   "id": "e1be426b",
   "metadata": {},
   "outputs": [
    {
     "data": {
      "text/plain": [
       "9.884416996849845e-08"
      ]
     },
     "execution_count": 110,
     "metadata": {},
     "output_type": "execute_result"
    }
   ],
   "source": [
    "param[0]"
   ]
  },
  {
   "cell_type": "code",
   "execution_count": 119,
   "id": "e053aeae",
   "metadata": {},
   "outputs": [
    {
     "data": {
      "text/plain": [
       "<matplotlib.legend.Legend at 0x7f39fb52f730>"
      ]
     },
     "execution_count": 119,
     "metadata": {},
     "output_type": "execute_result"
    },
    {
     "data": {
      "image/png": "[encoded data removed]",
      "text/plain": [
       "<Figure size 432x288 with 1 Axes>"
      ]
     },
     "metadata": {
      "needs_background": "light"
     },
     "output_type": "display_data"
    }
   ],
   "source": [
    "plt.plot(t, c, label=\"obs\", color=\"gray\")\n",
    "plt.plot(t, param[0]*t + param[1], label=\"fitted\", color=\"r\")\n",
    "plt.close()\n",
    "plt.xlabel(\"Time (days since 20-08-1969)\")\n",
    "plt.ylabel(\"CO2 mole fraction\")\n",
    "\n",
    "plt.legend()"
   ]
  },
  {
   "cell_type": "code",
   "execution_count": 120,
   "id": "7897e1c0",
   "metadata": {},
   "outputs": [
    {
     "data": {
      "text/plain": [
       "[<matplotlib.lines.Line2D at 0x7f39fb5f9c70>]"
      ]
     },
     "execution_count": 120,
     "metadata": {},
     "output_type": "execute_result"
    },
    {
     "data": {
      "image/png": "[encoded data removed]",
      "text/plain": [
       "<Figure size 432x288 with 1 Axes>"
      ]
     },
     "metadata": {
      "needs_background": "light"
     },
     "output_type": "display_data"
    }
   ],
   "source": [
    "plt.plot(t, c )"
   ]
  },
  {
   "cell_type": "markdown",
   "id": "c0d4ad75",
   "metadata": {},
   "source": [
    "<br>\n",
    "\n",
    "#### We don't have to write our own code, scipy provides us with a package that does this for us. \n",
    "\n",
    "Solving it by writing out the equations yourself helps you learn to write your own functions! But in many cases, there are many commonly available algorithms that have already been implemented in popular Python packages.\n",
    "\n",
    "Now let's do the same with functions from the scipy package. Try solving the problem by refering to the documentation on the following pages:\n",
    "\n",
    "1. [Linear regression in scipy](https://docs.scipy.org/doc/scipy-0.14.0/reference/generated/scipy.stats.linregress.html)\n",
    "1. [Curve_fitting in scipy](https://docs.scipy.org/doc/scipy/reference/generated/scipy.optimize.curve_fit.html)"
   ]
  },
  {
   "cell_type": "code",
   "execution_count": 116,
   "id": "550af571",
   "metadata": {},
   "outputs": [
    {
     "name": "stdout",
     "output_type": "stream",
     "text": [
      "[4.99479130e-03 3.16220307e+02] [[ 5.18225851e-11 -5.48083643e-07]\n",
      " [-5.48083643e-07  6.86660103e-03]]\n"
     ]
    },
    {
     "data": {
      "text/plain": [
       "<matplotlib.legend.Legend at 0x7f39fd6f9af0>"
      ]
     },
     "execution_count": 116,
     "metadata": {},
     "output_type": "execute_result"
    },
    {
     "data": {
      "image/png": "[encoded data removed]",
      "text/plain": [
       "<Figure size 432x288 with 1 Axes>"
      ]
     },
     "metadata": {
      "needs_background": "light"
     },
     "output_type": "display_data"
    }
   ],
   "source": [
    "# %load ./solutions/sol_linear_curve_fit.py\n",
    "import scipy.optimize as optimize\n",
    "\n",
    "def fit_func(x, a, b):\n",
    "    return a*x + b\n",
    "\n",
    "popt, pcov = optimize.curve_fit(fit_func, co2flask.date_delta, co2flask.analysis_value.values)\n",
    "\n",
    "print(popt, pcov)\n",
    "\n",
    "ax = plt.subplot()\n",
    "\n",
    "ax.plot(co2flask.date_delta, co2flask.analysis_value, label=\"measured\")\n",
    "ax.plot(co2flask.date_delta, fit_func(co2flask.date_delta.values, *popt), label=\"fitted\")\n",
    "\n",
    "xticks = np.linspace(co2flask.date_delta.values[0], co2flask.date_delta.values[-1], 5)\n",
    "xtick_indices = []\n",
    "for i in range(len(xticks)):\n",
    "    idx = np.argmin(np.abs(co2flask.date_delta.values - xticks[i]))\n",
    "    xtick_indices.append(idx)\n",
    "ax.set_xticks(np.linspace(co2flask.date_delta.values[0], co2flask.date_delta.values[-1], 5))\n",
    "ax.set_xticklabels(co2flask.datetime.iloc[xtick_indices].dt.year)\n",
    "\n",
    "ax.set_ylabel(\"CO2 mole fraction (ppm)\")\n",
    "ax.set_xlabel(\"Years\")\n",
    "\n",
    "plt.grid()\n",
    "\n",
    "plt.legend()"
   ]
  },
  {
   "cell_type": "markdown",
   "id": "41414361",
   "metadata": {},
   "source": [
    "Next, try fitting a higher order polynomial function to the data by changing the function that you send to the curve_fit function. Try sending a quadratic function (a polynomial of order 2)."
   ]
  },
  {
   "cell_type": "code",
   "execution_count": 117,
   "id": "79168158",
   "metadata": {},
   "outputs": [
    {
     "name": "stdout",
     "output_type": "stream",
     "text": [
      "[9.88441678e-08 2.86095024e-03 3.25691080e+02] [[ 1.72155660e-18 -3.71648445e-14  1.64951268e-10]\n",
      " [-3.71648445e-14  8.34313467e-10 -3.89940805e-06]\n",
      " [ 1.64951268e-10 -3.89940805e-06  2.00450863e-02]]\n"
     ]
    },
    {
     "data": {
      "text/plain": [
       "<matplotlib.legend.Legend at 0x7f39fb66fd00>"
      ]
     },
     "execution_count": 117,
     "metadata": {},
     "output_type": "execute_result"
    },
    {
     "data": {
      "image/png": "[encoded data removed]",
      "text/plain": [
       "<Figure size 432x288 with 1 Axes>"
      ]
     },
     "metadata": {
      "needs_background": "light"
     },
     "output_type": "display_data"
    }
   ],
   "source": [
    "# %load ./solutions/sol_poly2_curve_fit.py\n",
    "def fit_func_polynomial(x, a, b, c):\n",
    "    return a*x**2 + b*x + c\n",
    "\n",
    "popt, pcov = optimize.curve_fit(fit_func_polynomial, co2flask.date_delta.values, co2flask.analysis_value.values)\n",
    "\n",
    "print(popt, pcov)\n",
    "\n",
    "ax = plt.subplot()\n",
    "\n",
    "ax.plot(co2flask.date_delta, co2flask.analysis_value, label=\"measured\")\n",
    "ax.plot(co2flask.date_delta.values, fit_func_polynomial(co2flask.date_delta, *popt), label=\"fitted\")\n",
    "\n",
    "xticks = np.linspace(co2flask.date_delta.values[0], co2flask.date_delta.values[-1], 5)\n",
    "xtick_indices = []\n",
    "for i in range(len(xticks)):\n",
    "    idx = np.argmin(np.abs(co2flask.date_delta.values - xticks[i]))\n",
    "    xtick_indices.append(idx)\n",
    "ax.set_xticks(np.linspace(co2flask.date_delta.values[0], co2flask.date_delta.values[-1], 5))\n",
    "ax.set_xticklabels(co2flask.datetime.iloc[xtick_indices].dt.year)\n",
    "\n",
    "ax.set_ylabel(\"CO2 mole fraction (ppm)\")\n",
    "ax.set_xlabel(\"Years\")\n",
    "\n",
    "plt.grid()\n",
    "\n",
    "plt.legend()"
   ]
  },
  {
   "cell_type": "code",
   "execution_count": null,
   "id": "39b80aa1",
   "metadata": {},
   "outputs": [],
   "source": []
  }
 ],
 "metadata": {
  "kernelspec": {
   "display_name": "Python 3",
   "language": "python",
   "name": "python3"
  },
  "language_info": {
   "codemirror_mode": {
    "name": "ipython",
    "version": 3
   },
   "file_extension": ".py",
   "mimetype": "text/x-python",
   "name": "python",
   "nbconvert_exporter": "python",
   "pygments_lexer": "ipython3",
   "version": "3.8.3"
  }
 },
 "nbformat": 4,
 "nbformat_minor": 5
}
